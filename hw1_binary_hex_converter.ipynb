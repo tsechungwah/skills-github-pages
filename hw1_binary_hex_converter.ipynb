{
  "nbformat": 4,
  "nbformat_minor": 0,
  "metadata": {
    "colab": {
      "provenance": [],
      "authorship_tag": "ABX9TyNzihILJbcSJcp4mvULGYwD",
      "include_colab_link": true
    },
    "kernelspec": {
      "name": "python3",
      "display_name": "Python 3"
    },
    "language_info": {
      "name": "python"
    }
  },
  "cells": [
    {
      "cell_type": "markdown",
      "metadata": {
        "id": "view-in-github",
        "colab_type": "text"
      },
      "source": [
        "<a href=\"https://colab.research.google.com/github/tsechungwah/skills-github-pages/blob/main/hw1_binary_hex_converter.ipynb\" target=\"_parent\"><img src=\"https://colab.research.google.com/assets/colab-badge.svg\" alt=\"Open In Colab\"/></a>"
      ]
    },
    {
      "cell_type": "code",
      "execution_count": null,
      "metadata": {
        "id": "Msl5vVNRxS0l",
        "colab": {
          "base_uri": "https://localhost:8080/"
        },
        "outputId": "02e57af0-865f-4190-d126-cf178187cff4"
      },
      "outputs": [
        {
          "output_type": "stream",
          "name": "stdout",
          "text": [
            "十進位：25\n",
            "二進位：0b11001\n"
          ]
        }
      ],
      "source": [
        "decimal_number = 25\n",
        "binary_number = bin(decimal_number)\n",
        "print(f\"十進位：{decimal_number}\")\n",
        "print(f\"二進位：{binary_number}\")"
      ]
    },
    {
      "cell_type": "code",
      "source": [
        "decimal_number = 160\n",
        "hexadecimal_number = hex(decimal_number)\n",
        "print(f\"十進位：{decimal_number}\")\n",
        "print(f\"十六進位：{hexadecimal_number}\")"
      ],
      "metadata": {
        "colab": {
          "base_uri": "https://localhost:8080/"
        },
        "id": "9VtcioGdGqks",
        "outputId": "e8246d15-aa21-48ee-ade5-f7d22fd11342"
      },
      "execution_count": null,
      "outputs": [
        {
          "output_type": "stream",
          "name": "stdout",
          "text": [
            "十進位：160\n",
            "十六進位：0xa0\n"
          ]
        }
      ]
    },
    {
      "cell_type": "code",
      "source": [
        "decimal_number = 42\n",
        "binary_number = bin(decimal_number)[2:]\n",
        "hexadecimal_number = hex(decimal_number)[2:]\n",
        "print(f\"十進位：{decimal_number}\")\n",
        "print(f\"二進位 (無前綴)：{binary_number}\")\n",
        "print(f\"十六進位 (無前綴)：{hexadecimal_number}\")"
      ],
      "metadata": {
        "colab": {
          "base_uri": "https://localhost:8080/"
        },
        "id": "iJaOdHaBGzBC",
        "outputId": "cfe0b13e-376a-43c1-960b-cb5cd3c424ec"
      },
      "execution_count": null,
      "outputs": [
        {
          "output_type": "stream",
          "name": "stdout",
          "text": [
            "十進位：42\n",
            "二進位 (無前綴)：101010\n",
            "十六進位 (無前綴)：2a\n"
          ]
        }
      ]
    },
    {
      "cell_type": "code",
      "source": [
        "def decimal_number(number):\n",
        "  binary_number = bin(number)[2:]\n",
        "  hexadecimal_number = hex(number)[2:]\n",
        "  return f\"十進位：{number}, 二進位：{binary_number}, 十六進位：{hexadecimal_number}\""
      ],
      "metadata": {
        "id": "aj7BQsExH_o8"
      },
      "execution_count": null,
      "outputs": []
    },
    {
      "cell_type": "code",
      "source": [
        "nmb = decimal_number(255)\n",
        "print(nmb)"
      ],
      "metadata": {
        "colab": {
          "base_uri": "https://localhost:8080/"
        },
        "id": "LgEj7aiDk93g",
        "outputId": "fe0a0201-c6b1-4ce8-c66c-febf1ea3b24b"
      },
      "execution_count": null,
      "outputs": [
        {
          "output_type": "stream",
          "name": "stdout",
          "text": [
            "十進位：255, 二進位：11111111, 十六進位：ff\n"
          ]
        }
      ]
    },
    {
      "cell_type": "code",
      "source": [
        "umb = decimal_number(0)\n",
        "print(umb)"
      ],
      "metadata": {
        "colab": {
          "base_uri": "https://localhost:8080/"
        },
        "id": "7CC4SrKGp5v0",
        "outputId": "963b5879-e9c5-4aad-ba1f-54dafa8dc313"
      },
      "execution_count": 15,
      "outputs": [
        {
          "output_type": "stream",
          "name": "stdout",
          "text": [
            "十進位：0, 二進位：0, 十六進位：0\n"
          ]
        }
      ]
    },
    {
      "cell_type": "code",
      "source": [
        "i = 206\n",
        "a1 = 2**7\n",
        "a2 = 2**6\n",
        "a3 = 2**5\n",
        "a4 = 2**4\n",
        "a5 = 2**3\n",
        "a6 = 2**2\n",
        "a7 = 2**1\n",
        "a8 = 2**0\n",
        "\n",
        "print(i)\n",
        "if i > a1:\n",
        "  a1 = 1\n",
        "  i = i - 2**7\n",
        "else:\n",
        "  a1 = 0\n",
        "\n",
        "if i > a2:\n",
        "  a2 = 1\n",
        "  i = i - 2**6\n",
        "else:\n",
        "  a2 = 0\n",
        "\n",
        "if i > a3:\n",
        "  a3 = 1\n",
        "  i = i - 2**5\n",
        "else:\n",
        "  a3 = 0\n",
        "\n",
        "if i > a4:\n",
        "  a4 = 1\n",
        "  i = i - 2**4\n",
        "else:\n",
        "  a4 = 0\n",
        "\n",
        "if i > a5:\n",
        "  a5 = 1\n",
        "  i = i - 2**3\n",
        "else:\n",
        "  a5 = 0\n",
        "\n",
        "if i > a6:\n",
        "  a6 = 1\n",
        "  i = i - 2**2\n",
        "else:\n",
        "  a6 = 0\n",
        "\n",
        "if i > a7:\n",
        "  a7 = 1\n",
        "  i = i - 2**1\n",
        "else:\n",
        "  a7 = 0\n",
        "\n",
        "if i > a8:\n",
        "  a8 = 1\n",
        "  i = i - 2**0\n",
        "else:\n",
        "  a8 = 0\n",
        "\n",
        "print(\"二進位:\",a1,a2,a3,a4,a5,a6,a7,a8)\n",
        "\n",
        "bb1 = a1*2**3 + a2*2**2 + a3*2**1 + a4*2**0\n",
        "bb2 = a5*2**3 + a6*2**2 + a7*2**1 + a8*2**0\n",
        "\n",
        "if bb1 == 10:\n",
        "  bb1 = \"A\"\n",
        "elif bb1 == 11:\n",
        "  bb1 = \"B\"\n",
        "elif bb1 == 12:\n",
        "  bb1 = \"C\"\n",
        "elif bb1 == 13:\n",
        "  bb1 = \"D\"\n",
        "elif bb1 == 14:\n",
        "  bb1 = \"E\"\n",
        "elif bb1 == 15:\n",
        "  bb1 = \"F\"\n",
        "if bb2 == 10:\n",
        "  bb2 = 'A'\n",
        "elif bb2 == 11:\n",
        "  bb2 = 'B'\n",
        "elif bb2 == 12:\n",
        "  bb2 = 'C'\n",
        "elif bb2 == 13:\n",
        "  bb2 = 'D'\n",
        "elif bb2 == 14:\n",
        "  bb2 = 'E'\n",
        "elif bb2 == 15:\n",
        "  bb2 = 'F'\n",
        "\n",
        "print('十六進位:',bb1,bb2)\n",
        "\n",
        "\n"
      ],
      "metadata": {
        "colab": {
          "base_uri": "https://localhost:8080/"
        },
        "id": "bfFtqa7t82Kb",
        "outputId": "49803063-4931-43fa-a1e4-9f792b599e26"
      },
      "execution_count": 26,
      "outputs": [
        {
          "output_type": "stream",
          "name": "stdout",
          "text": [
            "206\n",
            "二進位: 1 1 0 0 1 1 0 1\n",
            "十六進位: C D\n"
          ]
        }
      ]
    }
  ]
}